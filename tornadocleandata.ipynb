{
 "cells": [
  {
   "cell_type": "code",
   "execution_count": 2,
   "id": "28edd25d-ccdd-4679-af55-7b3b0256eee6",
   "metadata": {},
   "outputs": [],
   "source": [
    "import pandas as pd\n",
    "\n"
   ]
  },
  {
   "cell_type": "code",
   "execution_count": 3,
   "id": "389f8dce-c3c1-4856-bb52-09bb1f0353f1",
   "metadata": {},
   "outputs": [],
   "source": [
    "df = pd.read_csv(\"us_tornado_dataset_1950_2021.csv\")"
   ]
  },
  {
   "cell_type": "code",
   "execution_count": 4,
   "id": "939ee64b-f290-4c1c-942f-b2e58c951f87",
   "metadata": {},
   "outputs": [],
   "source": [
    "df.columns = df.columns.str.strip().str.lower()"
   ]
  },
  {
   "cell_type": "code",
   "execution_count": 5,
   "id": "c1f4696d-b46a-465c-b1c6-2446d44c1e2e",
   "metadata": {},
   "outputs": [
    {
     "name": "stdout",
     "output_type": "stream",
     "text": [
      "Index(['yr', 'mo', 'dy', 'date', 'st', 'mag', 'inj', 'fat', 'slat', 'slon',\n",
      "       'elat', 'elon', 'len', 'wid'],\n",
      "      dtype='object')\n"
     ]
    }
   ],
   "source": [
    "print(df.columns)"
   ]
  },
  {
   "cell_type": "code",
   "execution_count": 6,
   "id": "573cecc4-3968-48b9-8cff-fb0bdc37eb8d",
   "metadata": {},
   "outputs": [],
   "source": [
    "df['mag'] = df['mag'].replace(-9, 'Unrated')"
   ]
  },
  {
   "cell_type": "code",
   "execution_count": 7,
   "id": "581a2b37-60eb-44c5-a2fb-6cb5f4816891",
   "metadata": {},
   "outputs": [],
   "source": [
    "def map_scale(val):\n",
    "    if val == 'Unrated':\n",
    "        return 'Unrated'\n",
    "    try:\n",
    "        return f'F/EF{int(val)}'\n",
    "    except:\n",
    "        return 'Unrated'\n",
    "\n",
    "df['f_scale'] = df['mag'].apply(map_scale)"
   ]
  },
  {
   "cell_type": "code",
   "execution_count": 8,
   "id": "ca96c26b-412f-419d-9c85-0be5dca7afe3",
   "metadata": {},
   "outputs": [
    {
     "name": "stdout",
     "output_type": "stream",
     "text": [
      "f_scale\n",
      "F/EF0      31375\n",
      "F/EF1      22885\n",
      "F/EF2       9517\n",
      "F/EF3       2536\n",
      "Unrated      605\n",
      "F/EF4        581\n",
      "F/EF5         59\n",
      "Name: count, dtype: int64\n"
     ]
    }
   ],
   "source": [
    "print(df['f_scale'].value_counts())"
   ]
  },
  {
   "cell_type": "code",
   "execution_count": null,
   "id": "4102be01-3799-4bec-a581-1e79913faad3",
   "metadata": {},
   "outputs": [],
   "source": []
  },
  {
   "cell_type": "code",
   "execution_count": 10,
   "id": "2a30f921-1319-464e-9601-e6aba80882ab",
   "metadata": {},
   "outputs": [],
   "source": [
    "month_map = {\n",
    "    1: 'Jan', 2: 'Feb', 3: 'Mar', 4: 'Apr',\n",
    "    5: 'May', 6: 'Jun', 7: 'Jul', 8: 'Aug',\n",
    "    9: 'Sep', 10: 'Oct', 11: 'Nov', 12: 'Dec'\n",
    "}\n",
    "\n",
    "df['month_name'] = df['mo'].map(month_map)"
   ]
  },
  {
   "cell_type": "code",
   "execution_count": 11,
   "id": "9a7a3fb7-9510-475c-a65b-cb24bd0e87f2",
   "metadata": {},
   "outputs": [
    {
     "name": "stdout",
     "output_type": "stream",
     "text": [
      "    mo month_name\n",
      "0    1        Jan\n",
      "1    1        Jan\n",
      "2    1        Jan\n",
      "3    1        Jan\n",
      "4    1        Jan\n",
      "5    1        Jan\n",
      "6    1        Jan\n",
      "7    2        Feb\n",
      "8    2        Feb\n",
      "9    2        Feb\n",
      "10   2        Feb\n",
      "11   2        Feb\n"
     ]
    }
   ],
   "source": [
    "print(df[['mo', 'month_name']].head(12))"
   ]
  },
  {
   "cell_type": "code",
   "execution_count": 12,
   "id": "0025b5ab-3707-4d07-bd0d-55595f14aae4",
   "metadata": {},
   "outputs": [],
   "source": [
    "df_rename = df.rename(columns={'yr': 'year', 'mo': 'month', 'dy': 'day'})"
   ]
  },
  {
   "cell_type": "code",
   "execution_count": 14,
   "id": "c644ad2f-7a76-4dd7-b0d9-5b2ff65c241a",
   "metadata": {},
   "outputs": [],
   "source": [
    "df['full_date'] = pd.to_datetime(df_rename[['year', 'month', 'day']], errors='coerce')"
   ]
  },
  {
   "cell_type": "code",
   "execution_count": 17,
   "id": "6a4f6720-a354-410c-871a-6168c5afdda5",
   "metadata": {},
   "outputs": [
    {
     "data": {
      "text/html": [
       "<div>\n",
       "<style scoped>\n",
       "    .dataframe tbody tr th:only-of-type {\n",
       "        vertical-align: middle;\n",
       "    }\n",
       "\n",
       "    .dataframe tbody tr th {\n",
       "        vertical-align: top;\n",
       "    }\n",
       "\n",
       "    .dataframe thead th {\n",
       "        text-align: right;\n",
       "    }\n",
       "</style>\n",
       "<table border=\"1\" class=\"dataframe\">\n",
       "  <thead>\n",
       "    <tr style=\"text-align: right;\">\n",
       "      <th></th>\n",
       "      <th>yr</th>\n",
       "      <th>mo</th>\n",
       "      <th>dy</th>\n",
       "      <th>full_date</th>\n",
       "    </tr>\n",
       "  </thead>\n",
       "  <tbody>\n",
       "    <tr>\n",
       "      <th>0</th>\n",
       "      <td>1950</td>\n",
       "      <td>1</td>\n",
       "      <td>3</td>\n",
       "      <td>1950-01-03</td>\n",
       "    </tr>\n",
       "    <tr>\n",
       "      <th>1</th>\n",
       "      <td>1950</td>\n",
       "      <td>1</td>\n",
       "      <td>3</td>\n",
       "      <td>1950-01-03</td>\n",
       "    </tr>\n",
       "    <tr>\n",
       "      <th>2</th>\n",
       "      <td>1950</td>\n",
       "      <td>1</td>\n",
       "      <td>3</td>\n",
       "      <td>1950-01-03</td>\n",
       "    </tr>\n",
       "    <tr>\n",
       "      <th>3</th>\n",
       "      <td>1950</td>\n",
       "      <td>1</td>\n",
       "      <td>13</td>\n",
       "      <td>1950-01-13</td>\n",
       "    </tr>\n",
       "    <tr>\n",
       "      <th>4</th>\n",
       "      <td>1950</td>\n",
       "      <td>1</td>\n",
       "      <td>25</td>\n",
       "      <td>1950-01-25</td>\n",
       "    </tr>\n",
       "    <tr>\n",
       "      <th>5</th>\n",
       "      <td>1950</td>\n",
       "      <td>1</td>\n",
       "      <td>25</td>\n",
       "      <td>1950-01-25</td>\n",
       "    </tr>\n",
       "    <tr>\n",
       "      <th>6</th>\n",
       "      <td>1950</td>\n",
       "      <td>1</td>\n",
       "      <td>26</td>\n",
       "      <td>1950-01-26</td>\n",
       "    </tr>\n",
       "    <tr>\n",
       "      <th>7</th>\n",
       "      <td>1950</td>\n",
       "      <td>2</td>\n",
       "      <td>11</td>\n",
       "      <td>1950-02-11</td>\n",
       "    </tr>\n",
       "    <tr>\n",
       "      <th>8</th>\n",
       "      <td>1950</td>\n",
       "      <td>2</td>\n",
       "      <td>11</td>\n",
       "      <td>1950-02-11</td>\n",
       "    </tr>\n",
       "    <tr>\n",
       "      <th>9</th>\n",
       "      <td>1950</td>\n",
       "      <td>2</td>\n",
       "      <td>11</td>\n",
       "      <td>1950-02-11</td>\n",
       "    </tr>\n",
       "  </tbody>\n",
       "</table>\n",
       "</div>"
      ],
      "text/plain": [
       "     yr  mo  dy  full_date\n",
       "0  1950   1   3 1950-01-03\n",
       "1  1950   1   3 1950-01-03\n",
       "2  1950   1   3 1950-01-03\n",
       "3  1950   1  13 1950-01-13\n",
       "4  1950   1  25 1950-01-25\n",
       "5  1950   1  25 1950-01-25\n",
       "6  1950   1  26 1950-01-26\n",
       "7  1950   2  11 1950-02-11\n",
       "8  1950   2  11 1950-02-11\n",
       "9  1950   2  11 1950-02-11"
      ]
     },
     "execution_count": 17,
     "metadata": {},
     "output_type": "execute_result"
    }
   ],
   "source": [
    "df[['yr', 'mo', 'dy', 'full_date']].head(10)"
   ]
  },
  {
   "cell_type": "code",
   "execution_count": 18,
   "id": "3908d34a-2e12-4c66-8bf0-9f305438018d",
   "metadata": {},
   "outputs": [],
   "source": [
    "columns_to_keep = [\n",
    "    'full_date', 'yr', 'mo', 'month_name', 'dy',\n",
    "    'st', 'f_scale', 'inj', 'fat', 'len', 'wid'\n",
    "]\n",
    "df_cleaned = df[columns_to_keep]"
   ]
  },
  {
   "cell_type": "code",
   "execution_count": 19,
   "id": "9fcd445f-3e83-4345-aaf3-23fb2a8a37ea",
   "metadata": {},
   "outputs": [
    {
     "data": {
      "text/html": [
       "<div>\n",
       "<style scoped>\n",
       "    .dataframe tbody tr th:only-of-type {\n",
       "        vertical-align: middle;\n",
       "    }\n",
       "\n",
       "    .dataframe tbody tr th {\n",
       "        vertical-align: top;\n",
       "    }\n",
       "\n",
       "    .dataframe thead th {\n",
       "        text-align: right;\n",
       "    }\n",
       "</style>\n",
       "<table border=\"1\" class=\"dataframe\">\n",
       "  <thead>\n",
       "    <tr style=\"text-align: right;\">\n",
       "      <th></th>\n",
       "      <th>full_date</th>\n",
       "      <th>yr</th>\n",
       "      <th>mo</th>\n",
       "      <th>month_name</th>\n",
       "      <th>dy</th>\n",
       "      <th>st</th>\n",
       "      <th>f_scale</th>\n",
       "      <th>inj</th>\n",
       "      <th>fat</th>\n",
       "      <th>len</th>\n",
       "      <th>wid</th>\n",
       "    </tr>\n",
       "  </thead>\n",
       "  <tbody>\n",
       "    <tr>\n",
       "      <th>0</th>\n",
       "      <td>1950-01-03</td>\n",
       "      <td>1950</td>\n",
       "      <td>1</td>\n",
       "      <td>Jan</td>\n",
       "      <td>3</td>\n",
       "      <td>IL</td>\n",
       "      <td>F/EF3</td>\n",
       "      <td>3</td>\n",
       "      <td>0</td>\n",
       "      <td>3.6</td>\n",
       "      <td>130</td>\n",
       "    </tr>\n",
       "    <tr>\n",
       "      <th>1</th>\n",
       "      <td>1950-01-03</td>\n",
       "      <td>1950</td>\n",
       "      <td>1</td>\n",
       "      <td>Jan</td>\n",
       "      <td>3</td>\n",
       "      <td>MO</td>\n",
       "      <td>F/EF3</td>\n",
       "      <td>3</td>\n",
       "      <td>0</td>\n",
       "      <td>9.5</td>\n",
       "      <td>150</td>\n",
       "    </tr>\n",
       "    <tr>\n",
       "      <th>2</th>\n",
       "      <td>1950-01-03</td>\n",
       "      <td>1950</td>\n",
       "      <td>1</td>\n",
       "      <td>Jan</td>\n",
       "      <td>3</td>\n",
       "      <td>OH</td>\n",
       "      <td>F/EF1</td>\n",
       "      <td>1</td>\n",
       "      <td>0</td>\n",
       "      <td>0.1</td>\n",
       "      <td>10</td>\n",
       "    </tr>\n",
       "    <tr>\n",
       "      <th>3</th>\n",
       "      <td>1950-01-13</td>\n",
       "      <td>1950</td>\n",
       "      <td>1</td>\n",
       "      <td>Jan</td>\n",
       "      <td>13</td>\n",
       "      <td>AR</td>\n",
       "      <td>F/EF3</td>\n",
       "      <td>1</td>\n",
       "      <td>1</td>\n",
       "      <td>0.6</td>\n",
       "      <td>17</td>\n",
       "    </tr>\n",
       "    <tr>\n",
       "      <th>4</th>\n",
       "      <td>1950-01-25</td>\n",
       "      <td>1950</td>\n",
       "      <td>1</td>\n",
       "      <td>Jan</td>\n",
       "      <td>25</td>\n",
       "      <td>IL</td>\n",
       "      <td>F/EF2</td>\n",
       "      <td>0</td>\n",
       "      <td>0</td>\n",
       "      <td>0.1</td>\n",
       "      <td>100</td>\n",
       "    </tr>\n",
       "  </tbody>\n",
       "</table>\n",
       "</div>"
      ],
      "text/plain": [
       "   full_date    yr  mo month_name  dy  st f_scale  inj  fat  len  wid\n",
       "0 1950-01-03  1950   1        Jan   3  IL   F/EF3    3    0  3.6  130\n",
       "1 1950-01-03  1950   1        Jan   3  MO   F/EF3    3    0  9.5  150\n",
       "2 1950-01-03  1950   1        Jan   3  OH   F/EF1    1    0  0.1   10\n",
       "3 1950-01-13  1950   1        Jan  13  AR   F/EF3    1    1  0.6   17\n",
       "4 1950-01-25  1950   1        Jan  25  IL   F/EF2    0    0  0.1  100"
      ]
     },
     "execution_count": 19,
     "metadata": {},
     "output_type": "execute_result"
    }
   ],
   "source": [
    "df_cleaned.head()"
   ]
  },
  {
   "cell_type": "code",
   "execution_count": 20,
   "id": "2dfe8d35-8113-404a-810b-587f1805fab0",
   "metadata": {},
   "outputs": [],
   "source": [
    "df_cleaned.to_csv(\"tornado_cleaned_for_dashboard.csv\", index=False)"
   ]
  },
  {
   "cell_type": "code",
   "execution_count": null,
   "id": "7f7e8059-c963-4bdb-953e-a59e34ad99e4",
   "metadata": {},
   "outputs": [],
   "source": []
  }
 ],
 "metadata": {
  "kernelspec": {
   "display_name": "Python [conda env:base] *",
   "language": "python",
   "name": "conda-base-py"
  },
  "language_info": {
   "codemirror_mode": {
    "name": "ipython",
    "version": 3
   },
   "file_extension": ".py",
   "mimetype": "text/x-python",
   "name": "python",
   "nbconvert_exporter": "python",
   "pygments_lexer": "ipython3",
   "version": "3.12.7"
  }
 },
 "nbformat": 4,
 "nbformat_minor": 5
}
